{
 "cells": [
  {
   "cell_type": "code",
   "execution_count": null,
   "metadata": {
    "pycharm": {
     "name": "#%%\n"
    }
   },
   "outputs": [],
   "source": [
    "import pandas as pd\n",
    "import re\n",
    "import os\n",
    "import numpy as np"
   ]
  },
  {
   "cell_type": "code",
   "execution_count": null,
   "metadata": {
    "pycharm": {
     "name": "#%%\n"
    }
   },
   "outputs": [],
   "source": [
    "from syn_elong import model as syn\n",
    "exchanges = set(i.id for i in syn.exchanges)\n",
    "genes = sorted([i.id for i in syn.genes])"
   ]
  },
  {
   "cell_type": "code",
   "execution_count": null,
   "metadata": {
    "pycharm": {
     "name": "#%%\n"
    }
   },
   "outputs": [],
   "source": [
    "old_to_new = dict()\n",
    "for i in syn.genes:\n",
    "#     print(i.annotation['refseq_old_locus_tag'])\n",
    "    if 'refseq_old_locus_tag' in i.annotation:\n",
    "        old_to_new[i.annotation['refseq_old_locus_tag']] = i.id\n",
    "    else:\n",
    "        old_to_new[i.id] = i.id\n",
    "        print(i.id)"
   ]
  },
  {
   "cell_type": "code",
   "execution_count": null,
   "metadata": {},
   "outputs": [],
   "source": [
    "ge_data = pd.read_excel(\n",
    "    'pnas.1613446113.sd03_GENE_ESSENTIALITY.xlsx',\n",
    "    skiprows=11,\n",
    "    sheet_name='Full essentiality list'\n",
    ")"
   ]
  },
  {
   "cell_type": "code",
   "execution_count": null,
   "metadata": {},
   "outputs": [],
   "source": [
    "important_data = ge_data[['Gene ID', 'RB-TnSeq essentiality']].copy()\n",
    "important_data['gene'] = important_data['Gene ID']\n",
    "important_data['essential'] = important_data['RB-TnSeq essentiality']\n",
    "del important_data['RB-TnSeq essentiality']\n",
    "del important_data['Gene ID']\n",
    "important_data.head()"
   ]
  },
  {
   "cell_type": "code",
   "execution_count": null,
   "metadata": {},
   "outputs": [],
   "source": [
    "important_data['gene'] = important_data['gene'].map(old_to_new)\n",
    "important_data.dropna(subset=['gene'], inplace=True)"
   ]
  },
  {
   "cell_type": "code",
   "execution_count": null,
   "metadata": {},
   "outputs": [],
   "source": [
    "important_data.head()"
   ]
  },
  {
   "cell_type": "code",
   "execution_count": null,
   "metadata": {},
   "outputs": [],
   "source": [
    "data_genes = sorted(important_data['gene'].values)"
   ]
  },
  {
   "cell_type": "code",
   "execution_count": null,
   "metadata": {},
   "outputs": [],
   "source": [
    "data_genes[-5:]"
   ]
  },
  {
   "cell_type": "code",
   "execution_count": null,
   "metadata": {},
   "outputs": [],
   "source": [
    "print(len(set(data_genes).intersection(genes)))\n",
    "print(len(set(data_genes).difference(genes)))\n",
    "print(len(set(genes).difference(data_genes)))"
   ]
  },
  {
   "cell_type": "code",
   "execution_count": null,
   "metadata": {},
   "outputs": [],
   "source": [
    "set(genes).difference(data_genes)"
   ]
  },
  {
   "cell_type": "code",
   "execution_count": null,
   "metadata": {},
   "outputs": [],
   "source": [
    "important_data.head()"
   ]
  },
  {
   "cell_type": "code",
   "execution_count": null,
   "metadata": {},
   "outputs": [],
   "source": [
    "important_data.loc[~(important_data.essential == 'essential'), 'essential'] = False\n",
    "important_data.loc[important_data.essential == 'essential', 'essential'] = True"
   ]
  },
  {
   "cell_type": "code",
   "execution_count": null,
   "metadata": {},
   "outputs": [],
   "source": [
    "important_data.head()"
   ]
  },
  {
   "cell_type": "code",
   "execution_count": null,
   "metadata": {},
   "outputs": [],
   "source": [
    "important_data.to_csv('../syn_elo_knockdown.csv', index=False)"
   ]
  },
  {
   "cell_type": "code",
   "execution_count": null,
   "metadata": {},
   "outputs": [],
   "source": []
  }
 ],
 "metadata": {
  "kernelspec": {
   "display_name": "Python 3 (ipykernel)",
   "language": "python",
   "name": "python3"
  },
  "language_info": {
   "codemirror_mode": {
    "name": "ipython",
    "version": 3
   },
   "file_extension": ".py",
   "mimetype": "text/x-python",
   "name": "python",
   "nbconvert_exporter": "python",
   "pygments_lexer": "ipython3",
   "version": "3.10.6"
  }
 },
 "nbformat": 4,
 "nbformat_minor": 1
}
